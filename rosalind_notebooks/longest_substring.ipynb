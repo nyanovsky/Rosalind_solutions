{
 "cells": [
  {
   "cell_type": "code",
   "execution_count": 1,
   "metadata": {},
   "outputs": [],
   "source": [
    "import pandas as pd\n",
    "import numpy as np"
   ]
  },
  {
   "cell_type": "code",
   "execution_count": 18,
   "metadata": {},
   "outputs": [],
   "source": [
    "fasta = open('D:/rosalind/rosalind_lcsm (1).txt', 'r+')"
   ]
  },
  {
   "cell_type": "code",
   "execution_count": 19,
   "metadata": {},
   "outputs": [],
   "source": [
    "def to_list(fasta):\n",
    "    data = pd.read_csv(fasta)\n",
    "    raw = data.to_numpy()\n",
    "    raw_ = []\n",
    "    s = ''\n",
    "    for i in range(len(raw)):\n",
    "        if raw[i][0].startswith('>'):\n",
    "            raw_.append(s)\n",
    "            s = ''\n",
    "        elif i == len(raw)-1:\n",
    "            s += raw[i][0]\n",
    "            raw_.append(s)\n",
    "        else:\n",
    "            s += raw[i][0]\n",
    "    return raw_"
   ]
  },
  {
   "cell_type": "code",
   "execution_count": 20,
   "metadata": {},
   "outputs": [],
   "source": [
    "data = to_list(fasta)"
   ]
  },
  {
   "cell_type": "code",
   "execution_count": 21,
   "metadata": {},
   "outputs": [],
   "source": [
    "def long_substr(data):\n",
    "    substr = ''\n",
    "    if len(data) > 1 and len(data[0]) > 0:\n",
    "        for i in range(len(data[0])):\n",
    "            for j in range(len(data[0])-i+1):\n",
    "                if j > len(substr) and all(data[0][i:i+j] in x for x in data):\n",
    "                    substr = data[0][i:i+j]\n",
    "    return substr"
   ]
  },
  {
   "cell_type": "code",
   "execution_count": 22,
   "metadata": {},
   "outputs": [
    {
     "data": {
      "text/plain": [
       "'GTAGCACTTGCATGCGATTTACATGACACGCCCTACAGATACCGAGCGGTTCTTTCGTCCGCGGCCACCGCGTATGTGCCCTTCATGGGAGAGGATTAACTCCCGTAATCTCTCAATCACGTCTCAACGGTGTAATAATTTCAACACCTCATGGTGTAGATGGAGTACTAAGCGGACTTGGTTATATCGGAGTACCGTAGAGATTTTTAGTCAAGTGTTTCAAGCAGTATAGCCATGATTTAGACTAACATTTTTTTGTTTTAAGGCTCCCATGGCATGGAGCTTGTTACGGGCAAAG'"
      ]
     },
     "execution_count": 22,
     "metadata": {},
     "output_type": "execute_result"
    }
   ],
   "source": [
    "long_substr(data)"
   ]
  }
 ],
 "metadata": {
  "kernelspec": {
   "display_name": "Python 3",
   "language": "python",
   "name": "python3"
  },
  "language_info": {
   "codemirror_mode": {
    "name": "ipython",
    "version": 3
   },
   "file_extension": ".py",
   "mimetype": "text/x-python",
   "name": "python",
   "nbconvert_exporter": "python",
   "pygments_lexer": "ipython3",
   "version": "3.9.1"
  }
 },
 "nbformat": 4,
 "nbformat_minor": 4
}
