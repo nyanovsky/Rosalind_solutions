{
 "cells": [
  {
   "cell_type": "code",
   "execution_count": 63,
   "metadata": {},
   "outputs": [],
   "source": [
    "def spliced_motif(s,t):\n",
    "    res = []\n",
    "    i = 0\n",
    "    for n in t:\n",
    "        while i < len(s) and s[i] != n:\n",
    "            i += 1\n",
    "        res.append(i+1)\n",
    "        i += 1\n",
    "    return res\n",
    "    \n",
    "                    "
   ]
  },
  {
   "cell_type": "code",
   "execution_count": 64,
   "metadata": {},
   "outputs": [
    {
     "data": {
      "text/plain": [
       "[3, 4, 5]"
      ]
     },
     "execution_count": 64,
     "metadata": {},
     "output_type": "execute_result"
    }
   ],
   "source": [
    "spliced_motif('ACGTACGTGACG', 'GTA')"
   ]
  },
  {
   "cell_type": "code",
   "execution_count": 65,
   "metadata": {},
   "outputs": [],
   "source": [
    "s = 'GTCAAATTTGCACTCTCGATACGAGTTCGGGGTTCCACCCTCCGGAATAGGCGTGTGGCCCAGAAGTGTGGGAAATATCTGTGCGAGATGAGCGCCCTAACCGGTGCCAGCTTTTCTTTGGAGGATTGGTGGGCACCCCGCGACCTAGCGAAGAGACTGTGCATGGATTACTGTTTATTCTAGCCTGAGGCCTGGAAAAGACACGCCTACCTTAAGTTGGGGGGAGTATGACCATGGTGAACAGATAAGCACCTTGAGAAGGCAATCTGGGACTCGTTTTCGAAAAAGGCGCTGAACGCGTCTCTACACTCATCCGAAGCTTGATCTTGGTGGTAGGCACCGTAGACCAACTGCGAACACCGAGAGAGTGAGAGTGGCCCTTATCCACCGACTGATTTAGATCTTGTTCTGTTAGCATGGGTTAGCCAAGGTGCTTAACGGTGGTCTTGACGCTAACTGTGGGAATTACTAGAATGAAGTGGGGGAGCTTCGCGAGCGTAAACGCGGAATTCCTCGCCGAGTTCACGCGCAACACAAAAGTCCCACTTGAGGCCATTGGCTAAAGCCAGTTAGTATTGTGGCGGGCCCAATGTGCAAGAGCATGCCCAGACACGATATCTTATGCTCCTGCATGTCCTGCTGATAATTTGAGGTCCGGTCTTGGTCGCCCCTCTTTATGTATCTAAACCAGGCGCCGGGCGGAAGACGAAGTTGATAATACGCGCGCGATTTTATTTTACAGACTCCCCGAGACCGATGTGGACCTACTCTCTTGCTCTCGGCAGACCGCTACCCGGACACTGAGTCACTGAAATCTCATGTTCACGGACCGCACAGCACAAGATCCAGCTATCGCCCTAGATGCTATGCGCCCCAATATGATGACACTTCCCTCTATTGAAATTTTACATGCTGCGAGAGAGCAGATTTTGACTGATCAACGAGTTTCGCTCGGGGAACCAA'"
   ]
  },
  {
   "cell_type": "code",
   "execution_count": 66,
   "metadata": {},
   "outputs": [],
   "source": [
    "t = 'TTGGTGTTGGGTAATCCGTGGGATACCGTTGGTATGTGT'"
   ]
  },
  {
   "cell_type": "code",
   "execution_count": 68,
   "metadata": {},
   "outputs": [
    {
     "name": "stdout",
     "output_type": "stream",
     "text": [
      "2\n",
      "7\n",
      "10\n",
      "18\n",
      "20\n",
      "23\n",
      "26\n",
      "27\n",
      "29\n",
      "30\n",
      "31\n",
      "33\n",
      "37\n",
      "46\n",
      "48\n",
      "52\n",
      "59\n",
      "63\n",
      "67\n",
      "68\n",
      "70\n",
      "71\n",
      "73\n",
      "76\n",
      "77\n",
      "79\n",
      "84\n",
      "85\n",
      "89\n",
      "98\n",
      "103\n",
      "104\n",
      "105\n",
      "109\n",
      "112\n",
      "120\n",
      "126\n",
      "128\n",
      "130\n"
     ]
    }
   ],
   "source": [
    "for _ in spliced_motif(s,t):\n",
    "    print(_, sep=' ')"
   ]
  }
 ],
 "metadata": {
  "kernelspec": {
   "display_name": "Python 3",
   "language": "python",
   "name": "python3"
  },
  "language_info": {
   "codemirror_mode": {
    "name": "ipython",
    "version": 3
   },
   "file_extension": ".py",
   "mimetype": "text/x-python",
   "name": "python",
   "nbconvert_exporter": "python",
   "pygments_lexer": "ipython3",
   "version": "3.9.1"
  }
 },
 "nbformat": 4,
 "nbformat_minor": 4
}
