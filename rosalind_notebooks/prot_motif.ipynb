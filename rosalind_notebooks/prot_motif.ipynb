{
 "cells": [
  {
   "cell_type": "code",
   "execution_count": 1,
   "metadata": {},
   "outputs": [],
   "source": [
    "import requests\n",
    "import re"
   ]
  },
  {
   "cell_type": "code",
   "execution_count": 2,
   "metadata": {},
   "outputs": [],
   "source": [
    "def n_glyc(prot):\n",
    "    hits = {}\n",
    "    for ids in prot:\n",
    "        raw = requests.get(f'https://www.uniprot.org/uniprot/{ids}.fasta').text\n",
    "        s = ''\n",
    "        lines = []\n",
    "        for line in raw:\n",
    "            if line == '\\n':\n",
    "                lines.append(s)\n",
    "                s = ''\n",
    "            else:\n",
    "                s += line\n",
    "        uniprot = ''.join(lines[1:])\n",
    "        loc = []\n",
    "        for i in range(len(uniprot)-3):\n",
    "            partial = uniprot[i:i+4]\n",
    "            if partial[0] == 'N' and partial[1] != 'P' and (partial[2] == 'S' or partial[2] == 'T') and partial[3] != 'P':\n",
    "                loc.append(i+1)\n",
    "        if len(loc) != 0:\n",
    "            hits[ids] = loc\n",
    "    return hits\n",
    "            "
   ]
  },
  {
   "cell_type": "code",
   "execution_count": 7,
   "metadata": {},
   "outputs": [],
   "source": [
    "prot = ['P11171_41_HUMAN',\n",
    "'P0AEI6',\n",
    "'P35446_FSPO_RAT',\n",
    "'P49286',\n",
    "'A4J5V5',\n",
    "'B3ET80',\n",
    "'P01106_MYC_HUMAN',\n",
    "'P07585_PGS2_HUMAN',\n",
    "'P01044_KNH1_BOVIN',\n",
    "'P43541',\n",
    "'A6WKC3',\n",
    "'P13671_CO6_HUMAN',\n",
    "'P07204_TRBM_HUMAN',\n",
    "'Q9HUU8']"
   ]
  },
  {
   "cell_type": "code",
   "execution_count": 8,
   "metadata": {},
   "outputs": [],
   "source": [
    "match = n_glyc(prot)"
   ]
  },
  {
   "cell_type": "code",
   "execution_count": 9,
   "metadata": {},
   "outputs": [
    {
     "name": "stdout",
     "output_type": "stream",
     "text": [
      "P11171_41_HUMAN\n",
      "[258, 281, 358]\n",
      "P35446_FSPO_RAT\n",
      "[214, 681]\n",
      "P49286\n",
      "[4, 130]\n",
      "A4J5V5\n",
      "[24, 38, 230]\n",
      "B3ET80\n",
      "[6]\n",
      "P01106_MYC_HUMAN\n",
      "[4, 112, 200]\n",
      "P07585_PGS2_HUMAN\n",
      "[211, 262, 303]\n",
      "P01044_KNH1_BOVIN\n",
      "[47, 87, 168, 169, 197, 204]\n",
      "P43541\n",
      "[129]\n",
      "A6WKC3\n",
      "[84, 360]\n",
      "P13671_CO6_HUMAN\n",
      "[324, 855]\n",
      "P07204_TRBM_HUMAN\n",
      "[47, 115, 116, 382, 409]\n"
     ]
    }
   ],
   "source": [
    "for key in match.keys():\n",
    "    print(key)\n",
    "    print(match[key])"
   ]
  }
 ],
 "metadata": {
  "kernelspec": {
   "display_name": "Python 3",
   "language": "python",
   "name": "python3"
  },
  "language_info": {
   "codemirror_mode": {
    "name": "ipython",
    "version": 3
   },
   "file_extension": ".py",
   "mimetype": "text/x-python",
   "name": "python",
   "nbconvert_exporter": "python",
   "pygments_lexer": "ipython3",
   "version": "3.9.1"
  }
 },
 "nbformat": 4,
 "nbformat_minor": 4
}
